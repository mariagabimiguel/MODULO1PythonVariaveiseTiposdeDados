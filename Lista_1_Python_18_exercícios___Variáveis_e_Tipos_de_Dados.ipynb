{
  "nbformat": 4,
  "nbformat_minor": 0,
  "metadata": {
    "colab": {
      "provenance": []
    },
    "kernelspec": {
      "name": "python3",
      "display_name": "Python 3"
    },
    "language_info": {
      "name": "python"
    }
  },
  "cells": [
    {
      "cell_type": "markdown",
      "source": [
        "##1) COMO LER UM NÚMERO INTEIRO E O IMPRIMIR?"
      ],
      "metadata": {
        "id": "K76wJRwbsV0c"
      }
    },
    {
      "cell_type": "code",
      "source": [
        "ler_numero = input(\"Digite um numero inteiro: \")\n",
        "print(f\"O valor inteiro digitado é: {ler_numero}\")\n",
        "#escrever o pedido para digitação é para tornar o programa intuitivo para o usuário, assim como é bom explicar o retorno\n",
        "#f é para entender que temos uma variável, senão vai imprimir {ler_numero} como texto"
      ],
      "metadata": {
        "colab": {
          "base_uri": "https://localhost:8080/"
        },
        "id": "IYP_JE4jscSG",
        "outputId": "47a37a30-30e5-4ebb-94d1-94a9caeff462"
      },
      "execution_count": 62,
      "outputs": [
        {
          "output_type": "stream",
          "name": "stdout",
          "text": [
            "Digite um numero inteiro: 10\n",
            "O valor inteiro digitado é: 10\n"
          ]
        }
      ]
    },
    {
      "cell_type": "code",
      "source": [
        "print(f\"O tipo do dado é: {type(ler_numero)}\")\n",
        "#vai dar str porque, por padrão, quando usamos input ele transforma o que você colocou em uma string\n",
        "#para isso definir o tipo do dado antes do input"
      ],
      "metadata": {
        "colab": {
          "base_uri": "https://localhost:8080/"
        },
        "id": "sKunJcYHzZzn",
        "outputId": "2709bcec-ce0b-46d9-d1c1-9b8c0b411f01"
      },
      "execution_count": 39,
      "outputs": [
        {
          "output_type": "stream",
          "name": "stdout",
          "text": [
            "O tipo do dado é: <class 'str'>\n"
          ]
        }
      ]
    },
    {
      "cell_type": "code",
      "source": [
        "ler_numero = int(input(\"Digite um numero inteiro: \"))"
      ],
      "metadata": {
        "colab": {
          "base_uri": "https://localhost:8080/"
        },
        "id": "fnhVSRUozjMO",
        "outputId": "4ffaf4c4-73e0-4b52-81ab-ec1fb69abcf5"
      },
      "execution_count": 18,
      "outputs": [
        {
          "name": "stdout",
          "output_type": "stream",
          "text": [
            "Digite um numero inteiro: 10\n"
          ]
        }
      ]
    },
    {
      "cell_type": "code",
      "source": [
        "type(ler_numero)"
      ],
      "metadata": {
        "colab": {
          "base_uri": "https://localhost:8080/"
        },
        "id": "xFe7PmRS0HWv",
        "outputId": "61e81f5d-fa92-426e-c6ca-2519a73afb3d"
      },
      "execution_count": 21,
      "outputs": [
        {
          "output_type": "execute_result",
          "data": {
            "text/plain": [
              "int"
            ]
          },
          "metadata": {},
          "execution_count": 21
        }
      ]
    },
    {
      "cell_type": "markdown",
      "source": [
        "**OBS.: Uma outra forma de fazer a leitura é usar o comando de atribuição de variável igual (=). Isso é muito mais usado, pois estamos o tempo todo lidando com vários valores entrando no programa.**\n",
        "\n",
        "*ler_numero = 10*"
      ],
      "metadata": {
        "id": "Z7o_Ykxs0nXq"
      }
    },
    {
      "cell_type": "markdown",
      "source": [
        "##2) COMO LER UM NÚMERO REAL E O IMPRIMIR?"
      ],
      "metadata": {
        "id": "WaEB-5ye1oQB"
      }
    },
    {
      "cell_type": "code",
      "source": [
        "#um numero real é aquele com pontos - será um float\n",
        "ler_numero_real = float(input(\"Digite um numero real: \"))\n",
        "print(f\"O valor real digitado é: {ler_numero_real}\")\n",
        "type(ler_numero_real)"
      ],
      "metadata": {
        "colab": {
          "base_uri": "https://localhost:8080/"
        },
        "id": "DqWkg0SC1xTs",
        "outputId": "aafbb815-5e0d-4930-e20d-9e60804eadda"
      },
      "execution_count": 25,
      "outputs": [
        {
          "output_type": "stream",
          "name": "stdout",
          "text": [
            "Digite um numero real: 10.0\n",
            "O valor real digitado é: 10.0\n"
          ]
        },
        {
          "output_type": "execute_result",
          "data": {
            "text/plain": [
              "float"
            ]
          },
          "metadata": {},
          "execution_count": 25
        }
      ]
    },
    {
      "cell_type": "markdown",
      "source": [
        "##3) COMO PEDIR AO USUÁRIO PARA DIGITAR QUATRO VALORES INTEIROS E IMPRIMIR A SOMA DELES?"
      ],
      "metadata": {
        "id": "GQLBmTS220oF"
      }
    },
    {
      "cell_type": "code",
      "source": [
        "primeiro_valor = int(input(\"Digite o primeiro valor: \"))\n",
        "segundo_valor = int(input(\"Digite o primeiro valor: \"))\n",
        "terceiro_valor = int(input(\"Digite o primeiro valor: \"))\n",
        "quarto_valor = int(input(\"Digite o primeiro valor: \"))"
      ],
      "metadata": {
        "colab": {
          "base_uri": "https://localhost:8080/"
        },
        "id": "B5Nyv6mF28et",
        "outputId": "ab3677c2-8316-4dc7-c08a-a212115ad534"
      },
      "execution_count": 28,
      "outputs": [
        {
          "name": "stdout",
          "output_type": "stream",
          "text": [
            "Digite o primeiro valor: 10\n",
            "Digite o primeiro valor: 10\n",
            "Digite o primeiro valor: 10\n",
            "Digite o primeiro valor: 10\n"
          ]
        }
      ]
    },
    {
      "cell_type": "markdown",
      "source": [
        "**OBS.: lembre-se de criar o hábito de verificar o tipo do dado (type). Será importante para análise exploratória de um conjunto de dados em um projeto.**"
      ],
      "metadata": {
        "id": "tR7JSN3g45Nj"
      }
    },
    {
      "cell_type": "code",
      "source": [
        "soma = primeiro_valor + segundo_valor + terceiro_valor + quarto_valor\n",
        "print(f\"O resultado da soma é: {soma}\")"
      ],
      "metadata": {
        "colab": {
          "base_uri": "https://localhost:8080/"
        },
        "id": "4pPnjtFU4Sye",
        "outputId": "d2cd2c17-3b25-41b9-c41c-dc470e11f69e"
      },
      "execution_count": 36,
      "outputs": [
        {
          "output_type": "stream",
          "name": "stdout",
          "text": [
            "O resultado da soma é: 40\n"
          ]
        }
      ]
    },
    {
      "cell_type": "markdown",
      "source": [
        "##4) COMO PEDIR AO USUÁRIO PARA DIGITAR UM NÚMERO REAL E IMPRIMIR O RESULTADO DO QUADRADO DESSE NÚMERO?"
      ],
      "metadata": {
        "id": "24n4jsVo5kss"
      }
    },
    {
      "cell_type": "code",
      "source": [
        "digita_numero_real = float(input(\"Digite um número real: \"))"
      ],
      "metadata": {
        "colab": {
          "base_uri": "https://localhost:8080/"
        },
        "id": "rwOmfAvu5tuh",
        "outputId": "b6e5c317-d21c-407d-e68a-29e0324ab617"
      },
      "execution_count": 40,
      "outputs": [
        {
          "name": "stdout",
          "output_type": "stream",
          "text": [
            "Digite um número real: 10.0\n"
          ]
        }
      ]
    },
    {
      "cell_type": "code",
      "source": [
        "numero_real_quadrado = digita_numero_real * digita_numero_real\n",
        "print(f\"O quadrado do valor {digita_numero_real} é: {numero_real_quadrado}\")"
      ],
      "metadata": {
        "colab": {
          "base_uri": "https://localhost:8080/"
        },
        "id": "4IiG1UL66dwQ",
        "outputId": "27390577-06f3-4c22-bea1-57f5e2b5916a"
      },
      "execution_count": 42,
      "outputs": [
        {
          "output_type": "stream",
          "name": "stdout",
          "text": [
            "O quadrado do valor 10.0 é: 100.0\n"
          ]
        }
      ]
    },
    {
      "cell_type": "markdown",
      "source": [
        "##5) COMO PEDIR AO USUÁRIO PARA DIGITAR UM NÚMERO REAL E IMPRIMIR A SUA QUINTA PARTE DESTE NÚMERO?"
      ],
      "metadata": {
        "id": "Ks1Ks0cM7kvP"
      }
    },
    {
      "cell_type": "code",
      "source": [
        "#valor x é um número real digitado pelo usuário\n",
        "x = float(input(\"Digite um  número real: \"))"
      ],
      "metadata": {
        "colab": {
          "base_uri": "https://localhost:8080/"
        },
        "id": "Ri9tsOMT9cp2",
        "outputId": "9e9e5642-dd20-4c00-98ac-205d87fb4f0c"
      },
      "execution_count": 46,
      "outputs": [
        {
          "name": "stdout",
          "output_type": "stream",
          "text": [
            "Digite um  número real: 10.0\n"
          ]
        }
      ]
    },
    {
      "cell_type": "code",
      "source": [
        "recebe_quinta_parte = (x/5)\n",
        "print (f\"A quinta parte de {x} é: {recebe_quinta_parte}\")"
      ],
      "metadata": {
        "colab": {
          "base_uri": "https://localhost:8080/"
        },
        "id": "F5ViseVS9rM0",
        "outputId": "19845379-5e5a-4dfe-e2ce-45d8bdf40e56"
      },
      "execution_count": 52,
      "outputs": [
        {
          "output_type": "stream",
          "name": "stdout",
          "text": [
            "A quinta parte de 10.0 é: 2.0\n"
          ]
        }
      ]
    },
    {
      "cell_type": "markdown",
      "source": [
        "##6) COMO LER A TEMPERATURA EM ºC E CONVERTER PARA GRAUS F?"
      ],
      "metadata": {
        "id": "wgNOltpm-tLS"
      }
    },
    {
      "cell_type": "code",
      "source": [
        "grau_em_celsius = float(input(\"Digite a temperatura ºC: \"))"
      ],
      "metadata": {
        "colab": {
          "base_uri": "https://localhost:8080/"
        },
        "id": "UswrJS22-_x6",
        "outputId": "31eb111f-7282-4265-fa04-3f39ff590eef"
      },
      "execution_count": 53,
      "outputs": [
        {
          "name": "stdout",
          "output_type": "stream",
          "text": [
            "Digite a temperatura Cº: 27.0\n"
          ]
        }
      ]
    },
    {
      "cell_type": "code",
      "source": [
        "grau_em_fah = grau_em_celsius*(9.0/5.0)+32.0\n",
        "print(f\"A temperatura celsius {grau_em_celsius} convertida em graus fahrenheit é: {grau_em_fah}\")"
      ],
      "metadata": {
        "colab": {
          "base_uri": "https://localhost:8080/"
        },
        "id": "TTgsPzon_SE-",
        "outputId": "4b2a6084-1870-48f9-cb52-91714544efd0"
      },
      "execution_count": 57,
      "outputs": [
        {
          "output_type": "stream",
          "name": "stdout",
          "text": [
            "A temperatura celsius 27.0 convertida em graus fahrenheit é: 80.6\n"
          ]
        }
      ]
    },
    {
      "cell_type": "markdown",
      "source": [
        "##7) COMO LER UM ÂNGULO EM GRAUS E APRESENTÁ-LO EM RADIANOS?"
      ],
      "metadata": {
        "id": "JOn0MHyQAsci"
      }
    },
    {
      "cell_type": "code",
      "source": [
        "valor_do_angulo = float(input(\"Digite o valor do ângulo: \"))"
      ],
      "metadata": {
        "colab": {
          "base_uri": "https://localhost:8080/"
        },
        "id": "fd3QWIr_BebN",
        "outputId": "96c3ad5a-b22f-457a-eafe-e4ad22c1474a"
      },
      "execution_count": 58,
      "outputs": [
        {
          "name": "stdout",
          "output_type": "stream",
          "text": [
            "Digite o valor do ângulo: 100\n"
          ]
        }
      ]
    },
    {
      "cell_type": "code",
      "source": [
        "valor_em_radianos = (valor_do_angulo * (3.14/180))\n",
        "print(f\"O valor do angulo {valor_do_angulo} em radianos é {valor_em_radianos}\")"
      ],
      "metadata": {
        "colab": {
          "base_uri": "https://localhost:8080/"
        },
        "id": "YIhDSJf2Bwbo",
        "outputId": "85aaa2ae-ed3c-4665-f039-38cf01b3a7cd"
      },
      "execution_count": 61,
      "outputs": [
        {
          "output_type": "stream",
          "name": "stdout",
          "text": [
            "O valor do angulo 100.0 em radianos é 1.7444444444444447\n"
          ]
        }
      ]
    },
    {
      "cell_type": "markdown",
      "source": [
        "##8) COMO LER TRÊS VALORES E APRESENTÁ-LOS COMO A SOMA DOS QUADRADOS DESSES VALORES LIDOS?"
      ],
      "metadata": {
        "id": "Cyg0FRdyCVUy"
      }
    },
    {
      "cell_type": "code",
      "source": [
        "primeiro_valor = int(input(\"Digite o primeiro valor: \"))\n",
        "segundo_valor = int(input(\"Digite o primeiro valor: \"))\n",
        "terceiro_valor = int(input(\"Digite o primeiro valor: \"))"
      ],
      "metadata": {
        "colab": {
          "base_uri": "https://localhost:8080/"
        },
        "id": "hoD1Cy4iDjnb",
        "outputId": "8c59fb1a-42b1-45ae-f566-b53f8f4b26cc"
      },
      "execution_count": 64,
      "outputs": [
        {
          "name": "stdout",
          "output_type": "stream",
          "text": [
            "Digite o primeiro valor: 10\n",
            "Digite o primeiro valor: 10\n",
            "Digite o primeiro valor: 10\n"
          ]
        }
      ]
    },
    {
      "cell_type": "code",
      "source": [
        "quadrado_do_primeiro_valor = primeiro_valor * primeiro_valor \n",
        "quadrado_do_segundo_valor = segundo_valor * segundo_valor\n",
        "quadrado_do_terceiro_valor = terceiro_valor * terceiro_valor"
      ],
      "metadata": {
        "id": "bTcutyiiEqsb"
      },
      "execution_count": 65,
      "outputs": []
    },
    {
      "cell_type": "code",
      "source": [
        "soma = quadrado_do_primeiro_valor + quadrado_do_segundo_valor + quadrado_do_terceiro_valor\n",
        "print(f\"A soma dos quadrados dos três números é: {soma}\")"
      ],
      "metadata": {
        "colab": {
          "base_uri": "https://localhost:8080/"
        },
        "id": "jKQgpoL4FcCX",
        "outputId": "16333d0f-3089-4ea8-9835-515b909f752e"
      },
      "execution_count": 67,
      "outputs": [
        {
          "output_type": "stream",
          "name": "stdout",
          "text": [
            "A soma dos quadrados dos três números é: 300\n"
          ]
        }
      ]
    },
    {
      "cell_type": "markdown",
      "source": [
        "##9) COMO PEDIR AO USUÁRIO QUATRO NOTAS, CALCULAR A MÉDIA ARITMÉTICA E IMPRIMIR O RESULTADO? "
      ],
      "metadata": {
        "id": "iSDvJfT7GAWj"
      }
    },
    {
      "cell_type": "code",
      "source": [
        "primeira_nota = float(input(\"Digite a primeira nota: \"))\n",
        "segunda_nota = float(input(\"Digite a primeira nota: \"))\n",
        "terceira_nota = float(input(\"Digite a primeira nota: \"))\n",
        "quarta_nota = float(input(\"Digite a primeira nota: \"))"
      ],
      "metadata": {
        "colab": {
          "base_uri": "https://localhost:8080/"
        },
        "id": "fNnjKVjtGJqP",
        "outputId": "e9be8d64-a18e-4609-c93e-8a76f86b690d"
      },
      "execution_count": 69,
      "outputs": [
        {
          "name": "stdout",
          "output_type": "stream",
          "text": [
            "Digite a primeira nota: 4.5\n",
            "Digite a primeira nota: 6.7\n",
            "Digite a primeira nota: 9\n",
            "Digite a primeira nota: 10\n"
          ]
        }
      ]
    },
    {
      "cell_type": "code",
      "source": [
        "media_aritmetica = (primeira_nota + segunda_nota + terceira_nota + quarta_nota)/4\n",
        "print(f\"A média das notas é: {media_aritmetica}\")\n"
      ],
      "metadata": {
        "colab": {
          "base_uri": "https://localhost:8080/"
        },
        "id": "EwdRMyxOGnDQ",
        "outputId": "9c1a5586-0a87-4a98-dc85-7addd33d096d"
      },
      "execution_count": 70,
      "outputs": [
        {
          "output_type": "stream",
          "name": "stdout",
          "text": [
            "A média das notas é: 7.55\n"
          ]
        }
      ]
    },
    {
      "cell_type": "markdown",
      "source": [
        "##10) COMO LER UM NÚMERO INTEIRO E IMPRIMIR O SEU ANTECESSOR E O SEU SUCESSOR?"
      ],
      "metadata": {
        "id": "joPsI1o_HPuZ"
      }
    },
    {
      "cell_type": "code",
      "source": [
        "valor_inteiro = int(input(\"Digite um número inteiro: \"))"
      ],
      "metadata": {
        "colab": {
          "base_uri": "https://localhost:8080/"
        },
        "id": "rcc0An2ZHbEh",
        "outputId": "8a051270-185e-4229-94cc-627fcf5f12a3"
      },
      "execution_count": 71,
      "outputs": [
        {
          "name": "stdout",
          "output_type": "stream",
          "text": [
            "Digite um número inteiro: 10\n"
          ]
        }
      ]
    },
    {
      "cell_type": "code",
      "source": [
        "sucessor = valor_inteiro + 1\n",
        "antecessor = valor_inteiro - 1"
      ],
      "metadata": {
        "id": "zdznqzJ0Ht0A"
      },
      "execution_count": 72,
      "outputs": []
    },
    {
      "cell_type": "code",
      "source": [
        "print(f\"O sucessor do número {valor_inteiro} é {sucessor}\")\n",
        "print(f\"O antecessor do número {valor_inteiro} é {antecessor}\")"
      ],
      "metadata": {
        "colab": {
          "base_uri": "https://localhost:8080/"
        },
        "id": "A4QbkkqyHzVC",
        "outputId": "2f246535-8e22-44b2-ef5b-b19bbe52f0d5"
      },
      "execution_count": 73,
      "outputs": [
        {
          "output_type": "stream",
          "name": "stdout",
          "text": [
            "O sucessor do número 10 é 11\n",
            "O antecessor do número 10 é 9\n"
          ]
        }
      ]
    },
    {
      "cell_type": "markdown",
      "source": [
        "##11) COMO LER UM NÚMERO INTEIRO E IMPRIMIR A SOMA DO SUCESSOR DO SEU TRIPLO COM O ANTECESSOR DO SEU DOBRO?"
      ],
      "metadata": {
        "id": "IrLF0AdZIJcq"
      }
    },
    {
      "cell_type": "markdown",
      "source": [
        "**OBS.: sempre que algo parecer confuso, anote em um papel e quebre as etapas - vai ajudar!**\n",
        "\n",
        "**SEQUÊNCIA DE ETAPAS!**"
      ],
      "metadata": {
        "id": "ftkrwYyTIYGV"
      }
    },
    {
      "cell_type": "code",
      "source": [
        "valor_numero_inteiro = int(input(\"Digite um número inteiro: \"))"
      ],
      "metadata": {
        "colab": {
          "base_uri": "https://localhost:8080/"
        },
        "id": "WlsKKyGCITYF",
        "outputId": "7cd33f35-0023-4668-a13e-158e63e64301"
      },
      "execution_count": 74,
      "outputs": [
        {
          "name": "stdout",
          "output_type": "stream",
          "text": [
            "Digite um número inteiro: 10\n"
          ]
        }
      ]
    },
    {
      "cell_type": "code",
      "source": [
        "triplo = valor_numero_inteiro * 3\n",
        "dobro = valor_numero_inteiro * 2"
      ],
      "metadata": {
        "id": "p-HIi0KfIo5S"
      },
      "execution_count": 75,
      "outputs": []
    },
    {
      "cell_type": "code",
      "source": [
        "print(f\"O triplo do número é {triplo}\")\n",
        "print(f\"O dobro do número é {dobro}\")\n"
      ],
      "metadata": {
        "colab": {
          "base_uri": "https://localhost:8080/"
        },
        "id": "tOPDwi4RI_vl",
        "outputId": "2f4d8431-6f36-41b1-b8bb-14fd1ad1e19e"
      },
      "execution_count": 76,
      "outputs": [
        {
          "output_type": "stream",
          "name": "stdout",
          "text": [
            "O triplo do número é 30\n",
            "O dobro do número é 20\n"
          ]
        }
      ]
    },
    {
      "cell_type": "code",
      "source": [
        "sucessor_do_triplo = triplo + 1\n",
        "antecessor_do_dobro = dobro - 1"
      ],
      "metadata": {
        "id": "xPeB237bJQnN"
      },
      "execution_count": 77,
      "outputs": []
    },
    {
      "cell_type": "code",
      "source": [
        "print(f\"O sucessor do número triplo é {sucessor_do_triplo}\")\n",
        "print(f\"O antecessor do dobro é {antecessor_do_dobro}\")"
      ],
      "metadata": {
        "colab": {
          "base_uri": "https://localhost:8080/"
        },
        "id": "YIZ9leNfJZQE",
        "outputId": "a58c986f-0e6b-470e-c785-c555c38f14f1"
      },
      "execution_count": 78,
      "outputs": [
        {
          "output_type": "stream",
          "name": "stdout",
          "text": [
            "O sucessor do número triplo é 31\n",
            "O antecessor do dobro é 19\n"
          ]
        }
      ]
    },
    {
      "cell_type": "code",
      "source": [
        "soma = sucessor_do_triplo + antecessor_do_dobro\n",
        "print(f\"A soma é {soma}\")"
      ],
      "metadata": {
        "colab": {
          "base_uri": "https://localhost:8080/"
        },
        "id": "1-gdAfJFJjhM",
        "outputId": "bc5be9bd-abb2-4fcf-bca0-957d0c168f69"
      },
      "execution_count": 79,
      "outputs": [
        {
          "output_type": "stream",
          "name": "stdout",
          "text": [
            "A soma é 50\n"
          ]
        }
      ]
    },
    {
      "cell_type": "markdown",
      "source": [
        "##12) COMO LER O TAMANHO DO LADO DE UM QUADRADO E IMPRIMIR COMO RESULTADO SUA ÁREA?"
      ],
      "metadata": {
        "id": "-1EHVVwRJ84a"
      }
    },
    {
      "cell_type": "code",
      "source": [
        "valor_do_lado_do_quadrado = float(input(\"Digite o valor do lado do quadrado: \"))"
      ],
      "metadata": {
        "colab": {
          "base_uri": "https://localhost:8080/"
        },
        "id": "XOIbxJKzKFOV",
        "outputId": "fd94b19a-7d3f-461f-8116-3fef0355306f"
      },
      "execution_count": 81,
      "outputs": [
        {
          "name": "stdout",
          "output_type": "stream",
          "text": [
            "Digite o valor do lado do quadrado: 10\n"
          ]
        }
      ]
    },
    {
      "cell_type": "code",
      "source": [
        "area_do_quadrado = valor_do_lado_do_quadrado * valor_do_lado_do_quadrado\n",
        "print(f\"O valor da área do quadrado é {area_do_quadrado}\")"
      ],
      "metadata": {
        "colab": {
          "base_uri": "https://localhost:8080/"
        },
        "id": "l0FEHEdSKUoG",
        "outputId": "604d763b-9d64-4411-934b-dad00f9091a7"
      },
      "execution_count": 83,
      "outputs": [
        {
          "output_type": "stream",
          "name": "stdout",
          "text": [
            "O valor da área do quadrado é 100.0\n"
          ]
        }
      ]
    },
    {
      "cell_type": "markdown",
      "source": [
        "##13) COMO LER O VALOR DE UM PRODUTO E IMPRIMIR O VALOR COM DESCONTO DE 12%"
      ],
      "metadata": {
        "id": "suovVw8JKlaa"
      }
    },
    {
      "cell_type": "code",
      "source": [
        "valor_do_produto = float(input(\"Digite o valor do produto: \"))"
      ],
      "metadata": {
        "colab": {
          "base_uri": "https://localhost:8080/"
        },
        "id": "ZOyt4jNUKtCj",
        "outputId": "16db4e45-0f84-4408-d1b8-ff54d08fd428"
      },
      "execution_count": 84,
      "outputs": [
        {
          "name": "stdout",
          "output_type": "stream",
          "text": [
            "Digite o valor do produto: 10.0\n"
          ]
        }
      ]
    },
    {
      "cell_type": "code",
      "source": [
        "valor_do_desconto = valor_do_produto * (12/100)\n",
        "print(f\"O valor do desconto é: {valor_do_desconto}\")"
      ],
      "metadata": {
        "colab": {
          "base_uri": "https://localhost:8080/"
        },
        "id": "x-cRLUQWK05A",
        "outputId": "0fb996a2-b5f1-4e56-a601-994b04ebbc1c"
      },
      "execution_count": 86,
      "outputs": [
        {
          "output_type": "stream",
          "name": "stdout",
          "text": [
            "O valor do desconto é: 1.2\n"
          ]
        }
      ]
    },
    {
      "cell_type": "code",
      "source": [
        "valor_final = (valor_do_produto - valor_do_desconto)\n",
        "print(f\"O valor do produto com desconto é: {valor_final}\")"
      ],
      "metadata": {
        "colab": {
          "base_uri": "https://localhost:8080/"
        },
        "id": "2esZDTuBLbei",
        "outputId": "5e208f3b-8ddc-4895-a448-06b49870d729"
      },
      "execution_count": 87,
      "outputs": [
        {
          "output_type": "stream",
          "name": "stdout",
          "text": [
            "O valor do produto com desconto é: 8.8\n"
          ]
        }
      ]
    },
    {
      "cell_type": "markdown",
      "source": [
        "##14) COMO LER UM SALÁRIO DE UM FUNCIONÁRIO E CALCULAR E IMPRMIR O NOVO SALÁRIO SABENDO QUE ELE RECEBEU UM AUMENTO DE 25%"
      ],
      "metadata": {
        "id": "nmWsloLUL5e3"
      }
    },
    {
      "cell_type": "code",
      "source": [
        "salario_do_funcionario = float(input(\"Digite o valor do salário: \"))"
      ],
      "metadata": {
        "colab": {
          "base_uri": "https://localhost:8080/"
        },
        "id": "DywN0CQ8MJ5x",
        "outputId": "2f2bf818-c163-4fc3-e0c1-98ec576b4f3c"
      },
      "execution_count": 88,
      "outputs": [
        {
          "name": "stdout",
          "output_type": "stream",
          "text": [
            "Digite o valor do salário: 1000\n"
          ]
        }
      ]
    },
    {
      "cell_type": "code",
      "source": [
        "valor_do_aumento = salario_do_funcionario * (25/100)\n",
        "print(f\"O valor do aumento é: {valor_do_aumento}\")\n",
        "salario_final = (salario_do_funcionario + valor_do_aumento)\n",
        "print(f\"O salário com o aumento de 25% é: {salario_final}\")"
      ],
      "metadata": {
        "colab": {
          "base_uri": "https://localhost:8080/"
        },
        "id": "87_Uubh8MXgT",
        "outputId": "4f709e2e-2364-4118-f882-6e7ad4405716"
      },
      "execution_count": 92,
      "outputs": [
        {
          "output_type": "stream",
          "name": "stdout",
          "text": [
            "O valor do aumento é: 250.0\n",
            "O salário com o aumento de 25% é: 1250.0\n"
          ]
        }
      ]
    },
    {
      "cell_type": "markdown",
      "source": [
        "##15) COMO LER O VALOR DA HORA DE TRABALHO E O NÚMERO DE HORAS TRABALHADAS NO MÊS E IMPRIMIR O VALOR A SER PAGO ADICIONANDO 10% SOBRE O VALOR CALCULADO?"
      ],
      "metadata": {
        "id": "Lltssu3JM9oz"
      }
    },
    {
      "cell_type": "code",
      "source": [
        "valor_da_hora = float(input(\"Digite o valor da hora trabalhada: \"))\n",
        "numero_de_horas = float(input(\"Digite o número de horas trabalhadas: \"))"
      ],
      "metadata": {
        "colab": {
          "base_uri": "https://localhost:8080/"
        },
        "id": "CeRLzIygNVgO",
        "outputId": "985e9e96-7977-4e8d-ea63-0500f2fe7cda"
      },
      "execution_count": 93,
      "outputs": [
        {
          "name": "stdout",
          "output_type": "stream",
          "text": [
            "Digite o valor da hora trabalhada: 10\n",
            "Digite o número de horas trabalhadas: 5\n"
          ]
        }
      ]
    },
    {
      "cell_type": "code",
      "source": [
        "valor_do_trabalho = (valor_da_hora * numero_de_horas)\n",
        "print(f\"O valor do trabalho é: {valor_do_trabalho}\")"
      ],
      "metadata": {
        "colab": {
          "base_uri": "https://localhost:8080/"
        },
        "id": "4tKK_GXmNica",
        "outputId": "cc2f1d43-4f66-4b33-b375-96cbd5460bb8"
      },
      "execution_count": 94,
      "outputs": [
        {
          "output_type": "stream",
          "name": "stdout",
          "text": [
            "O valor do trabalho é: 50.0\n"
          ]
        }
      ]
    },
    {
      "cell_type": "code",
      "source": [
        "valor_adicionado = valor_do_trabalho * (10/100)\n",
        "print(f\"O valor adicionado será: {valor_adicionado}\")"
      ],
      "metadata": {
        "colab": {
          "base_uri": "https://localhost:8080/"
        },
        "id": "jzYg3_amNvw3",
        "outputId": "f848e8ba-f19b-418c-a78c-c98cb8a01a76"
      },
      "execution_count": 95,
      "outputs": [
        {
          "output_type": "stream",
          "name": "stdout",
          "text": [
            "O valor adicionado será: 5.0\n"
          ]
        }
      ]
    },
    {
      "cell_type": "code",
      "source": [
        "salario_final_do_mes = valor_do_trabalho + valor_adicionado\n",
        "print(f\"O salario final será: {salario_final_do_mes}\")"
      ],
      "metadata": {
        "colab": {
          "base_uri": "https://localhost:8080/"
        },
        "id": "OIxGqkhdN7oV",
        "outputId": "90121967-93bb-4a8f-c627-e53bb92cca69"
      },
      "execution_count": 96,
      "outputs": [
        {
          "output_type": "stream",
          "name": "stdout",
          "text": [
            "O salario final será: 55.0\n"
          ]
        }
      ]
    },
    {
      "cell_type": "markdown",
      "source": [
        "##16) COMO CALCULAR O ANO DE NASCIMENTO DE UMA PESSOA A PARTIR DO ANO ATUAL?"
      ],
      "metadata": {
        "id": "RbcwhbqhOfk7"
      }
    },
    {
      "cell_type": "code",
      "source": [
        "idade = int(input(\"Digite a idade que será feita no ano atual: \"))\n",
        "ano_atual = int(input(\"Digite o ano atual: \"))"
      ],
      "metadata": {
        "colab": {
          "base_uri": "https://localhost:8080/"
        },
        "id": "q2_mptvnOnsE",
        "outputId": "5031d9ac-1815-4fb4-b549-dce98e054093"
      },
      "execution_count": 101,
      "outputs": [
        {
          "name": "stdout",
          "output_type": "stream",
          "text": [
            "Digite a idade que será feita no ano atual: 28\n",
            "Digite o ano atual: 2023\n"
          ]
        }
      ]
    },
    {
      "cell_type": "code",
      "source": [
        "ano_nascimento = ano_atual - idade\n",
        "print(f\"O ano de nascimento é: {ano_nascimento}\")"
      ],
      "metadata": {
        "colab": {
          "base_uri": "https://localhost:8080/"
        },
        "id": "xOnukIIdPFtr",
        "outputId": "55440e70-42c4-4f6a-bbfd-380ebf60e3e9"
      },
      "execution_count": 102,
      "outputs": [
        {
          "output_type": "stream",
          "name": "stdout",
          "text": [
            "O ano de nascimento é: 1995\n"
          ]
        }
      ]
    },
    {
      "cell_type": "markdown",
      "source": [
        "##17) COMO LER AS COORDENADAS X E Y DE PONTOS NO R2 E CALCULAR SUA DISTÂNCIA DA ORIGEM (0,0)"
      ],
      "metadata": {
        "id": "i_8m8Ya-P02g"
      }
    },
    {
      "cell_type": "code",
      "source": [
        "coordenada_x = int(input(\"Digite a coordenada X: \"))\n",
        "coordenada_y = int(input(\"Digite a coordenada Y: \"))"
      ],
      "metadata": {
        "colab": {
          "base_uri": "https://localhost:8080/"
        },
        "id": "oBny7yPHP7p9",
        "outputId": "d3b1a173-0f5b-4c6c-c862-d9bc33264a28"
      },
      "execution_count": 103,
      "outputs": [
        {
          "name": "stdout",
          "output_type": "stream",
          "text": [
            "Digite a coordenada X: 2\n",
            "Digite a coordenada Y: 4\n"
          ]
        }
      ]
    },
    {
      "cell_type": "code",
      "source": [
        "valor_quadrado_x = coordenada_x * coordenada_x\n",
        "valor_quadrado_y = coordenada_y * coordenada_y"
      ],
      "metadata": {
        "id": "hFaEheUjQKSu"
      },
      "execution_count": 105,
      "outputs": []
    },
    {
      "cell_type": "code",
      "source": [
        "soma = (valor_quadrado_x * valor_quadrado_y)"
      ],
      "metadata": {
        "id": "9dVfClrYQbSj"
      },
      "execution_count": 106,
      "outputs": []
    },
    {
      "cell_type": "code",
      "source": [
        "#raiz quadrada\n",
        "import math\n",
        "\n",
        "raiz_quadrada = math.sqrt(soma)\n",
        "print(f\"O valor é: {raiz_quadrada}\")"
      ],
      "metadata": {
        "colab": {
          "base_uri": "https://localhost:8080/"
        },
        "id": "KrijN75VQlb_",
        "outputId": "0e4645f4-13a7-4fb1-e0b9-24a9a00c2c05"
      },
      "execution_count": 108,
      "outputs": [
        {
          "output_type": "stream",
          "name": "stdout",
          "text": [
            "O valor é: 8.0\n"
          ]
        }
      ]
    },
    {
      "cell_type": "markdown",
      "source": [
        "##18) COMO RECEBER O SALÁRIO BASE DE UM FUNCIONÁRIO E CALCULAR O SALÁRIO A RECEBER SABENDO QUE ELE TEM UMA GRATIFICAÇÃO DE 5% SOBRE O SALÁRIO BASE? ALÉM DISSO, SAIBA QUE ELE PAGA 7% DE IMPOSTO SOBRE O SALÁRIO BASE."
      ],
      "metadata": {
        "id": "POYtn6x0Q3uM"
      }
    },
    {
      "cell_type": "code",
      "source": [
        "salario_base = int(input(\"Digite o valor do salário: \"))"
      ],
      "metadata": {
        "colab": {
          "base_uri": "https://localhost:8080/"
        },
        "id": "YwwWAl9cRJkY",
        "outputId": "fbe670e1-c7fe-488d-8e1a-109004988b1f"
      },
      "execution_count": 109,
      "outputs": [
        {
          "name": "stdout",
          "output_type": "stream",
          "text": [
            "Digite o valor do salário: 1000\n"
          ]
        }
      ]
    },
    {
      "cell_type": "code",
      "source": [
        "gratificacao = salario_base * (5/100)\n",
        "imposto = salario_base * (7/100)\n",
        "salario_final = (salario_base + gratificacao - imposto)\n",
        "\n",
        "\n",
        "print(f\"O salário final é: {salario_final}\")"
      ],
      "metadata": {
        "colab": {
          "base_uri": "https://localhost:8080/"
        },
        "id": "yd1s2NcoRXyA",
        "outputId": "3b8109ab-812b-4ab2-aa28-85eb6af26129"
      },
      "execution_count": 111,
      "outputs": [
        {
          "output_type": "stream",
          "name": "stdout",
          "text": [
            "O salário final é: 980.0\n"
          ]
        }
      ]
    }
  ]
}